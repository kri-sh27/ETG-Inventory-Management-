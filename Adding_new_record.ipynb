{
  "nbformat": 4,
  "nbformat_minor": 0,
  "metadata": {
    "colab": {
      "name": "Adding_new_record.ipynb",
      "provenance": [],
      "collapsed_sections": []
    },
    "kernelspec": {
      "name": "python3",
      "display_name": "Python 3"
    },
    "language_info": {
      "name": "python"
    }
  },
  "cells": [
    {
      "cell_type": "code",
      "metadata": {
        "id": "GUxEVlhxTBen"
      },
      "source": [
        "import json"
      ],
      "execution_count": null,
      "outputs": []
    },
    {
      "cell_type": "markdown",
      "metadata": {
        "id": "zSS-Ozg9TUt4"
      },
      "source": [
        "#Reading data from existing file"
      ]
    },
    {
      "cell_type": "code",
      "metadata": {
        "id": "zcPx8vVNTbMu"
      },
      "source": [
        "fd = open(\"record.json\",'r')\n",
        "rd = fd.read()\n",
        "fd.close()\n",
        "\n",
        "records = json.loads(rd)"
      ],
      "execution_count": 30,
      "outputs": []
    },
    {
      "cell_type": "code",
      "metadata": {
        "id": "ZnWaWa3lUDuG"
      },
      "source": [
        "records"
      ],
      "execution_count": null,
      "outputs": []
    },
    {
      "cell_type": "markdown",
      "metadata": {
        "id": "k6r2c_XmULHV"
      },
      "source": [
        "#Adding new product "
      ]
    },
    {
      "cell_type": "code",
      "metadata": {
        "id": "ATz4vW7hUGou"
      },
      "source": [
        "print(\" Do you want to add new product - (if yes press y/ if no n)\")\n",
        "print(\"============================================================\")\n",
        "choice = input()\n",
        "if(choice == 'y'):\n",
        "    product_id = str(len(records) + 1001)\n",
        "    product_name = input(\"Enter product name -                               \")\n",
        "    product_price = input(\"Enter price -                                     \")\n",
        "    product_quantity = input(\"Enter quantity -                               \")\n",
        "    discount_on_product = input(\"Enter discount percentage (0 if none) -     \")\n",
        "    product_category = input(\"Enter product category -                       \")\n",
        "    manufature_date = input(\"Enter manufacturing date -                      \")\n",
        "    records[product_id] = {'Product_Name': product_name,\n",
        "                        'Product_Price': product_price,\n",
        "                        \"Product_Discount('%')\": discount_on_product,\n",
        "                        'Product_Quantity': product_quantity,\n",
        "                        'Product_Category': product_category,\n",
        "                        'Manufacture_Date': manufature_date}\n",
        "    print(\"Successfully get added product with product_ID  \" + product_id)\n",
        "else:\n",
        "    print(\"You choose to exit. :)\")"
      ],
      "execution_count": null,
      "outputs": []
    },
    {
      "cell_type": "markdown",
      "metadata": {
        "id": "lx1KkNA5fT9G"
      },
      "source": [
        "#rewriting back to json file"
      ]
    },
    {
      "cell_type": "code",
      "metadata": {
        "id": "xwbuHdLPUqzW"
      },
      "source": [
        "fd = open(\"record.json\", 'w')\n",
        "js = json.dumps(records)\n",
        "fd.write(js)\n",
        "fd.close()"
      ],
      "execution_count": 27,
      "outputs": []
    },
    {
      "cell_type": "markdown",
      "metadata": {
        "id": "U1byBGCJUKFA"
      },
      "source": [
        ""
      ]
    },
    {
      "cell_type": "code",
      "metadata": {
        "colab": {
          "base_uri": "https://localhost:8080/"
        },
        "id": "cb_7zyoHfowz",
        "outputId": "1cf39ea1-bcf9-49db-d2b5-e188f8b35e1e"
      },
      "source": [
        "len(records)"
      ],
      "execution_count": 28,
      "outputs": [
        {
          "output_type": "execute_result",
          "data": {
            "text/plain": [
              "32"
            ]
          },
          "metadata": {},
          "execution_count": 28
        }
      ]
    },
    {
      "cell_type": "code",
      "metadata": {
        "id": "kDukg_coftRb"
      },
      "source": [
        "records['1032']"
      ],
      "execution_count": null,
      "outputs": []
    },
    {
      "cell_type": "code",
      "metadata": {
        "id": "3YUO7lJHfxb6"
      },
      "source": [
        ""
      ],
      "execution_count": null,
      "outputs": []
    }
  ]
}